{
 "cells": [
  {
   "cell_type": "code",
   "execution_count": 1,
   "metadata": {},
   "outputs": [],
   "source": [
    "import requests\n",
    "import pandas as pd\n",
    "\n",
    "host = \"http://127.0.0.1:8000\""
   ]
  },
  {
   "cell_type": "code",
   "execution_count": 2,
   "metadata": {},
   "outputs": [
    {
     "data": {
      "text/plain": [
       "'http://127.0.0.1:8000'"
      ]
     },
     "execution_count": 2,
     "metadata": {},
     "output_type": "execute_result"
    }
   ],
   "source": [
    "host"
   ]
  },
  {
   "cell_type": "code",
   "execution_count": 5,
   "metadata": {},
   "outputs": [],
   "source": [
    "data = {\n",
    "    \"pair\": \"ETHBTC\",\n",
    "    \"timeframe\": \"5m\",\n",
    "    \"ini\": \"01/03/2022\",\n",
    "    \"end\": \"15/04/2022\",\n",
    "    \"indicators\": [\"open_time\",\"open\",\"high\",\"rsi\",\"macd\",\"ema200\"]\n",
    "}"
   ]
  },
  {
   "cell_type": "code",
   "execution_count": 3,
   "metadata": {},
   "outputs": [],
   "source": [
    "res = requests.post(host+'/api/login',json={\"username\": \"x4vyjm\", \"email\": \"x4vyjm@gmail.com\"})\n",
    "token = res.text.replace('\"','')"
   ]
  },
  {
   "cell_type": "code",
   "execution_count": 5,
   "metadata": {},
   "outputs": [
    {
     "data": {
      "text/plain": [
       "dict"
      ]
     },
     "execution_count": 5,
     "metadata": {},
     "output_type": "execute_result"
    }
   ],
   "source": [
    "type(data)"
   ]
  },
  {
   "cell_type": "code",
   "execution_count": 4,
   "metadata": {},
   "outputs": [
    {
     "data": {
      "text/plain": [
       "dict"
      ]
     },
     "execution_count": 4,
     "metadata": {},
     "output_type": "execute_result"
    }
   ],
   "source": [
    "headers = {\"Authorization\":\"Bearer \"+token}\n",
    "type(headers)"
   ]
  },
  {
   "cell_type": "code",
   "execution_count": 6,
   "metadata": {},
   "outputs": [],
   "source": [
    "r = requests.post(host+'/api/data', json=data, headers=headers)"
   ]
  },
  {
   "cell_type": "code",
   "execution_count": 7,
   "metadata": {},
   "outputs": [
    {
     "data": {
      "text/html": [
       "<div>\n",
       "<style scoped>\n",
       "    .dataframe tbody tr th:only-of-type {\n",
       "        vertical-align: middle;\n",
       "    }\n",
       "\n",
       "    .dataframe tbody tr th {\n",
       "        vertical-align: top;\n",
       "    }\n",
       "\n",
       "    .dataframe thead th {\n",
       "        text-align: right;\n",
       "    }\n",
       "</style>\n",
       "<table border=\"1\" class=\"dataframe\">\n",
       "  <thead>\n",
       "    <tr style=\"text-align: right;\">\n",
       "      <th></th>\n",
       "      <th>open_time</th>\n",
       "      <th>open</th>\n",
       "      <th>high</th>\n",
       "      <th>rsi</th>\n",
       "      <th>macd</th>\n",
       "      <th>ema200</th>\n",
       "    </tr>\n",
       "  </thead>\n",
       "  <tbody>\n",
       "    <tr>\n",
       "      <th>0</th>\n",
       "      <td>2022-03-01 05:00:00</td>\n",
       "      <td>0.067491</td>\n",
       "      <td>0.067625</td>\n",
       "      <td>59.125801</td>\n",
       "      <td>-0.000012</td>\n",
       "      <td>0.067981</td>\n",
       "    </tr>\n",
       "    <tr>\n",
       "      <th>1</th>\n",
       "      <td>2022-03-01 05:05:00</td>\n",
       "      <td>0.067619</td>\n",
       "      <td>0.067638</td>\n",
       "      <td>55.227953</td>\n",
       "      <td>-0.000002</td>\n",
       "      <td>0.067977</td>\n",
       "    </tr>\n",
       "    <tr>\n",
       "      <th>2</th>\n",
       "      <td>2022-03-01 05:10:00</td>\n",
       "      <td>0.067559</td>\n",
       "      <td>0.067568</td>\n",
       "      <td>52.773234</td>\n",
       "      <td>0.000002</td>\n",
       "      <td>0.067972</td>\n",
       "    </tr>\n",
       "    <tr>\n",
       "      <th>3</th>\n",
       "      <td>2022-03-01 05:15:00</td>\n",
       "      <td>0.067522</td>\n",
       "      <td>0.067559</td>\n",
       "      <td>54.712773</td>\n",
       "      <td>0.000008</td>\n",
       "      <td>0.067968</td>\n",
       "    </tr>\n",
       "    <tr>\n",
       "      <th>4</th>\n",
       "      <td>2022-03-01 05:20:00</td>\n",
       "      <td>0.067558</td>\n",
       "      <td>0.067582</td>\n",
       "      <td>52.135653</td>\n",
       "      <td>0.000010</td>\n",
       "      <td>0.067964</td>\n",
       "    </tr>\n",
       "    <tr>\n",
       "      <th>...</th>\n",
       "      <td>...</td>\n",
       "      <td>...</td>\n",
       "      <td>...</td>\n",
       "      <td>...</td>\n",
       "      <td>...</td>\n",
       "      <td>...</td>\n",
       "    </tr>\n",
       "    <tr>\n",
       "      <th>12955</th>\n",
       "      <td>2022-04-15 04:35:00</td>\n",
       "      <td>0.075602</td>\n",
       "      <td>0.075621</td>\n",
       "      <td>45.291887</td>\n",
       "      <td>-0.000003</td>\n",
       "      <td>0.075537</td>\n",
       "    </tr>\n",
       "    <tr>\n",
       "      <th>12956</th>\n",
       "      <td>2022-04-15 04:40:00</td>\n",
       "      <td>0.075613</td>\n",
       "      <td>0.075614</td>\n",
       "      <td>43.054349</td>\n",
       "      <td>-0.000007</td>\n",
       "      <td>0.075537</td>\n",
       "    </tr>\n",
       "    <tr>\n",
       "      <th>12957</th>\n",
       "      <td>2022-04-15 04:45:00</td>\n",
       "      <td>0.075594</td>\n",
       "      <td>0.075650</td>\n",
       "      <td>47.521552</td>\n",
       "      <td>-0.000008</td>\n",
       "      <td>0.075538</td>\n",
       "    </tr>\n",
       "    <tr>\n",
       "      <th>12958</th>\n",
       "      <td>2022-04-15 04:50:00</td>\n",
       "      <td>0.075627</td>\n",
       "      <td>0.075656</td>\n",
       "      <td>45.711358</td>\n",
       "      <td>-0.000009</td>\n",
       "      <td>0.075539</td>\n",
       "    </tr>\n",
       "    <tr>\n",
       "      <th>12959</th>\n",
       "      <td>2022-04-15 04:55:00</td>\n",
       "      <td>0.075612</td>\n",
       "      <td>0.075635</td>\n",
       "      <td>48.924072</td>\n",
       "      <td>-0.000008</td>\n",
       "      <td>0.075540</td>\n",
       "    </tr>\n",
       "  </tbody>\n",
       "</table>\n",
       "<p>12960 rows × 6 columns</p>\n",
       "</div>"
      ],
      "text/plain": [
       "                open_time      open      high        rsi      macd    ema200\n",
       "0     2022-03-01 05:00:00  0.067491  0.067625  59.125801 -0.000012  0.067981\n",
       "1     2022-03-01 05:05:00  0.067619  0.067638  55.227953 -0.000002  0.067977\n",
       "2     2022-03-01 05:10:00  0.067559  0.067568  52.773234  0.000002  0.067972\n",
       "3     2022-03-01 05:15:00  0.067522  0.067559  54.712773  0.000008  0.067968\n",
       "4     2022-03-01 05:20:00  0.067558  0.067582  52.135653  0.000010  0.067964\n",
       "...                   ...       ...       ...        ...       ...       ...\n",
       "12955 2022-04-15 04:35:00  0.075602  0.075621  45.291887 -0.000003  0.075537\n",
       "12956 2022-04-15 04:40:00  0.075613  0.075614  43.054349 -0.000007  0.075537\n",
       "12957 2022-04-15 04:45:00  0.075594  0.075650  47.521552 -0.000008  0.075538\n",
       "12958 2022-04-15 04:50:00  0.075627  0.075656  45.711358 -0.000009  0.075539\n",
       "12959 2022-04-15 04:55:00  0.075612  0.075635  48.924072 -0.000008  0.075540\n",
       "\n",
       "[12960 rows x 6 columns]"
      ]
     },
     "execution_count": 7,
     "metadata": {},
     "output_type": "execute_result"
    }
   ],
   "source": [
    "df = pd.read_json(r.json()[\"data\"])\n",
    "df"
   ]
  },
  {
   "cell_type": "code",
   "execution_count": 8,
   "metadata": {},
   "outputs": [
    {
     "name": "stdout",
     "output_type": "stream",
     "text": [
      "<class 'pandas.core.frame.DataFrame'>\n",
      "RangeIndex: 12960 entries, 0 to 12959\n",
      "Data columns (total 6 columns):\n",
      " #   Column     Non-Null Count  Dtype         \n",
      "---  ------     --------------  -----         \n",
      " 0   open_time  12960 non-null  datetime64[ns]\n",
      " 1   open       12960 non-null  float64       \n",
      " 2   high       12960 non-null  float64       \n",
      " 3   rsi        12960 non-null  float64       \n",
      " 4   macd       12960 non-null  float64       \n",
      " 5   ema200     12960 non-null  float64       \n",
      "dtypes: datetime64[ns](1), float64(5)\n",
      "memory usage: 607.6 KB\n"
     ]
    }
   ],
   "source": [
    "df.info()"
   ]
  },
  {
   "cell_type": "code",
   "execution_count": 36,
   "metadata": {},
   "outputs": [],
   "source": [
    "files = {'file': open('./modelorf.joblib', 'rb')}\n",
    "response = requests.post(host+\"/api/upload\", files=files, headers=headers)"
   ]
  },
  {
   "cell_type": "code",
   "execution_count": 39,
   "metadata": {},
   "outputs": [
    {
     "data": {
      "text/plain": [
       "b'{\"message\":\"Success Upload\",\"filename\":\"modelorf.joblib\"}'"
      ]
     },
     "execution_count": 39,
     "metadata": {},
     "output_type": "execute_result"
    }
   ],
   "source": [
    "files[\"file\"].close()\n",
    "response.content"
   ]
  },
  {
   "cell_type": "code",
   "execution_count": 85,
   "metadata": {},
   "outputs": [],
   "source": [
    "model_reload = {\n",
    "  \"scaler\": \"scaler.joblib\",\n",
    "  \"model\": \"modelorf.joblib\",\n",
    "  \"columns\": ['volume','rsi', 'adx', 'macd','macd_signal','macd_hist', 'ema50', 'ema100', 'ema200', 'obv']\n",
    "}"
   ]
  },
  {
   "cell_type": "code",
   "execution_count": 86,
   "metadata": {},
   "outputs": [
    {
     "data": {
      "text/plain": [
       "b'{\"message\":\"Reloading Successed\"}'"
      ]
     },
     "execution_count": 86,
     "metadata": {},
     "output_type": "execute_result"
    }
   ],
   "source": [
    "response = requests.post(host+\"/api/reload\", json=model_reload, headers=headers)\n",
    "response.content"
   ]
  },
  {
   "cell_type": "code",
   "execution_count": 13,
   "metadata": {},
   "outputs": [
    {
     "name": "stdout",
     "output_type": "stream",
     "text": [
      "Collecting websocket-client\n",
      "  Using cached websocket_client-1.4.1-py3-none-any.whl (55 kB)\n",
      "Installing collected packages: websocket-client\n",
      "Successfully installed websocket-client-1.4.1\n"
     ]
    }
   ],
   "source": [
    "!pip install websocket-client\n",
    "from websocket import WebSocketApp"
   ]
  },
  {
   "cell_type": "code",
   "execution_count": 18,
   "metadata": {},
   "outputs": [],
   "source": [
    "def on_open(ws):\n",
    "        print(\"open\")\n",
    "\n",
    "def on_close(ws, close_status_code, close_msg):\n",
    "    print(close_status_code)\n",
    "    print(close_msg)\n",
    "    print(\"closed\")\n",
    "\n",
    "def on_message(ws, message):\n",
    "    print(type(message))\n",
    "    print(message)"
   ]
  },
  {
   "cell_type": "code",
   "execution_count": 92,
   "metadata": {},
   "outputs": [],
   "source": [
    "sock_uri = \"ws://127.0.0.1:8000/api/signal?timeframe=5m&pairs=ETHBTC,DOTBTC,SOLBTC\""
   ]
  },
  {
   "cell_type": "code",
   "execution_count": 93,
   "metadata": {},
   "outputs": [],
   "source": [
    "ws = WebSocketApp(sock_uri, on_open=on_open,on_close=on_close, on_message=on_message, header=headers)"
   ]
  },
  {
   "cell_type": "code",
   "execution_count": 94,
   "metadata": {},
   "outputs": [
    {
     "name": "stdout",
     "output_type": "stream",
     "text": [
      "open\n",
      "<class 'str'>\n",
      "[{\"pair\": \"ETHBTC\", \"buy\": false}, {\"pair\": \"DOTBTC\", \"buy\": false}, {\"pair\": \"SOLBTC\", \"buy\": false}]\n",
      "<class 'str'>\n",
      "[{\"pair\": \"ETHBTC\", \"buy\": false}, {\"pair\": \"DOTBTC\", \"buy\": false}, {\"pair\": \"SOLBTC\", \"buy\": false}]\n",
      "<class 'str'>\n",
      "[{\"pair\": \"ETHBTC\", \"buy\": false}, {\"pair\": \"DOTBTC\", \"buy\": false}, {\"pair\": \"SOLBTC\", \"buy\": false}]\n",
      "<class 'str'>\n",
      "[{\"pair\": \"ETHBTC\", \"buy\": false}, {\"pair\": \"DOTBTC\", \"buy\": false}, {\"pair\": \"SOLBTC\", \"buy\": false}]\n",
      "<class 'str'>\n",
      "[{\"pair\": \"ETHBTC\", \"buy\": false}, {\"pair\": \"DOTBTC\", \"buy\": false}, {\"pair\": \"SOLBTC\", \"buy\": false}]\n",
      "<class 'str'>\n",
      "[{\"pair\": \"ETHBTC\", \"buy\": false}, {\"pair\": \"DOTBTC\", \"buy\": false}, {\"pair\": \"SOLBTC\", \"buy\": false}]\n",
      "<class 'str'>\n",
      "[{\"pair\": \"ETHBTC\", \"buy\": false}, {\"pair\": \"DOTBTC\", \"buy\": false}, {\"pair\": \"SOLBTC\", \"buy\": false}]\n",
      "<class 'str'>\n",
      "[{\"pair\": \"ETHBTC\", \"buy\": false}, {\"pair\": \"DOTBTC\", \"buy\": false}, {\"pair\": \"SOLBTC\", \"buy\": false}]\n",
      "<class 'str'>\n",
      "[{\"pair\": \"ETHBTC\", \"buy\": false}, {\"pair\": \"DOTBTC\", \"buy\": false}, {\"pair\": \"SOLBTC\", \"buy\": false}]\n",
      "None\n",
      "None\n",
      "closed\n"
     ]
    },
    {
     "data": {
      "text/plain": [
       "True"
      ]
     },
     "execution_count": 94,
     "metadata": {},
     "output_type": "execute_result"
    }
   ],
   "source": [
    "ws.run_forever()"
   ]
  }
 ],
 "metadata": {
  "kernelspec": {
   "display_name": "Python 3.9.7 ('prueba')",
   "language": "python",
   "name": "python3"
  },
  "language_info": {
   "codemirror_mode": {
    "name": "ipython",
    "version": 3
   },
   "file_extension": ".py",
   "mimetype": "text/x-python",
   "name": "python",
   "nbconvert_exporter": "python",
   "pygments_lexer": "ipython3",
   "version": "3.9.7"
  },
  "orig_nbformat": 4,
  "vscode": {
   "interpreter": {
    "hash": "7cc2c7517494734f9eef4132f915579c6b6313eecc9ebd71015dd7b0d34448df"
   }
  }
 },
 "nbformat": 4,
 "nbformat_minor": 2
}
